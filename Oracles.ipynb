{
 "cells": [
  {
   "cell_type": "code",
   "execution_count": 1,
   "id": "bbfd203a-f6cb-4f5b-be22-d54958dee03e",
   "metadata": {},
   "outputs": [],
   "source": [
    "from qiskit.quantum_info.operators import Operator\n",
    "from qiskit.circuit.library import CU1Gate"
   ]
  },
  {
   "cell_type": "markdown",
   "id": "1590a425-ed17-4894-b900-95bd1c0666b9",
   "metadata": {},
   "source": [
    "## Oracles for Shor's Algorithm\n",
    "\n",
    "- Use the function c_mult_op(x,k,N) below to implement a controlled unitary operation corresponding to the modular multiplication operation $y \\mapsto x^ky \\mod N$\n",
    "\n",
    "- Given a quantum circuit, the syntax to add a controlled-U operator is circuit.unitary(c_mult_op(x,k,N), register) where in 'register' you specify the list of qubits where the gate is appended. Note that the first qubit serves as the control qubit, and the remaining qubits serve as target.\n",
    "\n",
    "- Functions to build the QFT and IQFT are also provided, although these should also be available from the Qiskit library. \n"
   ]
  },
  {
   "cell_type": "code",
   "execution_count": 2,
   "id": "49478537-1274-401a-a6d0-ab8e319587aa",
   "metadata": {},
   "outputs": [],
   "source": [
    "\n",
    "#helper functions\n",
    "\n",
    "def make_permutation_matrix(n, permutation):\n",
    "    r = np.zeros((n,n), dtype=int)\n",
    "    for i in range(n):\n",
    "        r[permutation(i), i] = 1\n",
    "    return r\n",
    "\n",
    "def mult_mat(x,k,N):\n",
    "    n = math.ceil(math.log(N, 2))\n",
    "    return make_permutation_matrix(\n",
    "    2**n,\n",
    "    permutation=lambda y:  y*pow(x,k) % N if y<N else y)\n",
    "\n",
    "def c_mult_mat(x,k,N):\n",
    "    n = math.ceil(math.log(N, 2))\n",
    "    permutation = lambda y: y if y%2==0 or (y-1)/2 >= N else 2*(int((y-1)/2)*pow(x,k) % N) + 1\n",
    "    return make_permutation_matrix(2*(2**n), permutation )\n",
    "\n",
    "def mult_op(x,k,N):\n",
    "    return Operator(mult_mat(x,k,N))\n",
    "\n"
   ]
  },
  {
   "cell_type": "code",
   "execution_count": 3,
   "id": "b97d1ce5-4202-4eac-b7bf-5faa7aaa8676",
   "metadata": {},
   "outputs": [],
   "source": [
    "#controlled-U oracle \n",
    "\n",
    "def c_mult_op(x,k,N):\n",
    "    return Operator(c_mult_mat(x,k,N))\n",
    "\n",
    "\n",
    "# QFT and IQFT\n",
    "def qft(circ, q, n):\n",
    "    \"\"\"n-qubit QFT on q in circ.\"\"\"\n",
    "    for j in range(n):\n",
    "        circ.h(q[j])\n",
    "        for k in range(j+1,n):\n",
    "            circ.cu1(math.pi/float(2**(k-j)), q[k], q[j])\n",
    "    for i in range(n//2):\n",
    "        circ.swap(q[i], q[n-i-1])\n",
    "        \n",
    "def iqft(circ,q,n):\n",
    "    for j in range(n):\n",
    "        circ.h(q[j])\n",
    "        for k in range(j+1,n):\n",
    "            #circ.cu1(-math.pi/float(2**(k-j)), q[k], q[j])\n",
    "             gate = CU1Gate(-np.pi/float(2**(k-j)) )\n",
    "             circ.append(gate, [q[k],q[j]])\n",
    "    for i in range(n//2):\n",
    "        circ.swap(q[i], q[n-i-1])"
   ]
  },
  {
   "cell_type": "code",
   "execution_count": null,
   "id": "462673aa-e48d-46e7-a5ab-8953317d2d8e",
   "metadata": {},
   "outputs": [],
   "source": []
  }
 ],
 "metadata": {
  "kernelspec": {
   "display_name": "Python 3 (ipykernel)",
   "language": "python",
   "name": "python3"
  },
  "language_info": {
   "codemirror_mode": {
    "name": "ipython",
    "version": 3
   },
   "file_extension": ".py",
   "mimetype": "text/x-python",
   "name": "python",
   "nbconvert_exporter": "python",
   "pygments_lexer": "ipython3",
   "version": "3.9.18"
  }
 },
 "nbformat": 4,
 "nbformat_minor": 5
}
